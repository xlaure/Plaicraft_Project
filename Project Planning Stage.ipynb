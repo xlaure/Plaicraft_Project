{
 "cells": [
  {
   "cell_type": "markdown",
   "id": "96142010-90e1-4b07-8cc8-f89ada258076",
   "metadata": {},
   "source": [
    "Project Planning Stage"
   ]
  },
  {
   "cell_type": "markdown",
   "id": "f6c4f3a4-d457-48ce-86bc-eebd6719a833",
   "metadata": {},
   "source": [
    "1. Data Description:"
   ]
  },
  {
   "cell_type": "markdown",
   "id": "4f64eaa1-236e-4853-8277-e67af3bab6dd",
   "metadata": {},
   "source": [
    "2. Question:"
   ]
  },
  {
   "cell_type": "markdown",
   "id": "16b0bf1e-770c-4731-8ff2-03e40c980f8b",
   "metadata": {},
   "source": [
    "3."
   ]
  },
  {
   "cell_type": "code",
   "execution_count": null,
   "id": "3f034d45-c4e1-43d6-a1d7-37fb8693fdcf",
   "metadata": {},
   "outputs": [],
   "source": []
  }
 ],
 "metadata": {
  "kernelspec": {
   "display_name": "R",
   "language": "R",
   "name": "ir"
  },
  "language_info": {
   "codemirror_mode": "r",
   "file_extension": ".r",
   "mimetype": "text/x-r-source",
   "name": "R",
   "pygments_lexer": "r",
   "version": "4.3.3"
  }
 },
 "nbformat": 4,
 "nbformat_minor": 5
}
