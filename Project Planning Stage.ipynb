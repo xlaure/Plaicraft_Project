{
 "cells": [
  {
   "cell_type": "markdown",
   "id": "96142010-90e1-4b07-8cc8-f89ada258076",
   "metadata": {},
   "source": [
    "Project Planning Stage"
   ]
  },
  {
   "cell_type": "markdown",
   "id": "f6c4f3a4-d457-48ce-86bc-eebd6719a833",
   "metadata": {},
   "source": [
    "1. Data Description:"
   ]
  },
  {
   "cell_type": "markdown",
   "id": "4f64eaa1-236e-4853-8277-e67af3bab6dd",
   "metadata": {},
   "source": [
    "2. Question:\n",
    "\n",
    "Question 1: We would like to know which \"kinds\" of players are most likely to contribute a large amount of data so that we can target those players in our recruiting efforts.\n",
    "\n",
    "Question 2: We are interested in demand forecasting, namely, what time windows are most likely to have large number of simultaneous players. This is because we need to ensure that the number of licenses on hand is sufficiently large to accommodate all parallel players with high probability. \n",
    "\n",
    "Question 3: We would like to know something about our populations of users, in particular, we would like to have a good model of whether or not a player will continue contributing given past participation. "
   ]
  },
  {
   "cell_type": "markdown",
   "id": "16b0bf1e-770c-4731-8ff2-03e40c980f8b",
   "metadata": {},
   "source": [
    "3. Exploratory Data Analysis and Visualization"
   ]
  },
  {
   "cell_type": "markdown",
   "id": "8d0c8544-bb6f-4832-a08a-5e6b0187d2f8",
   "metadata": {},
   "source": [
    "4. Methods and Plan"
   ]
  },
  {
   "cell_type": "code",
   "execution_count": null,
   "id": "9be48dc4-cce1-48d4-b1d8-2f16b7db0711",
   "metadata": {},
   "outputs": [],
   "source": []
  }
 ],
 "metadata": {
  "kernelspec": {
   "display_name": "R",
   "language": "R",
   "name": "ir"
  },
  "language_info": {
   "codemirror_mode": "r",
   "file_extension": ".r",
   "mimetype": "text/x-r-source",
   "name": "R",
   "pygments_lexer": "r",
   "version": "4.3.3"
  }
 },
 "nbformat": 4,
 "nbformat_minor": 5
}
